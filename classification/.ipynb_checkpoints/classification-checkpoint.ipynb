{
 "cells": [
  {
   "cell_type": "code",
   "execution_count": null,
   "metadata": {},
   "outputs": [],
   "source": [
    "# Import dependencies\n",
    "import numpy as np\n",
    "import pandas as pd\n",
    "import sklearn as skl\n",
    "import os"
   ]
  },
  {
   "cell_type": "code",
   "execution_count": null,
   "metadata": {},
   "outputs": [],
   "source": [
    "# Import models\n",
    "from sklearn.neural_network import MLPClassifier\n",
    "from sklearn.neighbors import KNeighborsClassifier\n",
    "from sklearn.svm import SVC\n",
    "from sklearn.gaussian_process import GaussianProcessClassifier\n",
    "from sklearn.gaussian_process.kernels import RBF\n",
    "from sklearn.tree import DecisionTreeClassifier\n",
    "from sklearn.ensemble import RandomForestClassifier, AdaBoostClassifier\n",
    "from sklearn.naive_bayes import GaussianNB\n",
    "from sklearn.discriminant_analysis import QuadraticDiscriminantAnalysis"
   ]
  },
  {
   "cell_type": "code",
   "execution_count": null,
   "metadata": {},
   "outputs": [],
   "source": [
    "# Define values\n",
    "DIRNAME = os.path.abspath('.')\n",
    "INPUT_FILE_PATH = os.path.join(DIRNAME, '..', 'Final_DF', 'final_df.csv')\n",
    "BIRD_NAMES = [\n",
    "    'Bombadil',\n",
    "    'Orange Pine Plover',\n",
    "    'Blue-collared Zipper',\n",
    "    'Rose-crested Blue Pipit',\n",
    "    'Eastern Corn Skeet',\n",
    "    'Qax',\n",
    "    'Ordinary Snape',\n",
    "    'Scrawny Jay',\n",
    "    'Pinkfinch',\n",
    "    'Carries Champagne Pipit',\n",
    "    'Darkwing Sparrow',\n",
    "    'Bent-beak Riffraff',\n",
    "    'Vermillion Trillian',\n",
    "    'Green-tipped Scarlet Pipit',\n",
    "    'Lesser Birchbeere',\n",
    "    'Canadian Cootamum',\n",
    "    'Purple Tooting Tout',\n",
    "    'Queenscoat',\n",
    "    'Broad-winged Jojo'\n",
    "]"
   ]
  },
  {
   "cell_type": "code",
   "execution_count": null,
   "metadata": {},
   "outputs": [],
   "source": [
    "# Initialize classifiers\n",
    "classifiers = [\n",
    "    'Multi-layer Perceptron', MLPClassifier(alpha = 1),\n",
    "    'K-nearest Neighbor', KNeighborsClassifier(3),\n",
    "    'Support Vector Machine', SVC(gamma = 2, C = 1),\n",
    "#    'Gaussian Process', GaussianProcessClassifier(1.0 * RBF(1.0)),\n",
    "    'Decision Tree', DecisionTreeClassifier(max_depth = 5),\n",
    "    'Random Forest', RandomForestClassifier(max_depth = 5, n_estimators = 10, max_features = 1),\n",
    "    'AdaBoost', AdaBoostClassifier(),\n",
    "    'Gaussian Naive Bayes', GaussianNB(),\n",
    "    'Quadratic Discriminant Analysis', QuadraticDiscriminantAnalysis()\n",
    "]\n",
    "names, models = classifiers[::2], classifiers[1::2] # Split array"
   ]
  },
  {
   "cell_type": "code",
   "execution_count": null,
   "metadata": {},
   "outputs": [],
   "source": [
    "# Read input file\n",
    "df = pd.read_csv(INPUT_FILE_PATH)\n",
    "df = df.dropna() # Drop rows with null values\n",
    "\n",
    "# Convert names to categorial codes\n",
    "df['y'] = df['English_name'] == 'Rose-crested Blue Pipit'\n",
    "\n",
    "# Split data\n",
    "X = df.loc[:, 'X':'Croma_Deviation'].values # Features\n",
    "y = df['y'].astype('category').cat.codes.values # Labels\n",
    "\n",
    "# Scale features\n",
    "scaler = skl.preprocessing.StandardScaler()\n",
    "X = scaler.fit_transform(X)\n",
    "\n",
    "# Initialize cross validation\n",
    "kf = skl.model_selection.KFold(n_splits = 5, shuffle = True)"
   ]
  },
  {
   "cell_type": "code",
   "execution_count": null,
   "metadata": {},
   "outputs": [],
   "source": [
    "# For every split\n",
    "accuracies = []\n",
    "for train_index, test_index in kf.split(X):\n",
    "    \n",
    "    # Split dataset\n",
    "    X_train, X_test = X[train_index], X[test_index]\n",
    "    y_train, y_test = y[train_index], y[test_index]\n",
    "\n",
    "    # Fit models\n",
    "    for model in models:\n",
    "        model.fit(X_train, y_train)\n",
    "        y_hat = model.predict(X_test)\n",
    "        print(skl.metrics.accuracy_score(y_test, y_hat))"
   ]
  }
 ],
 "metadata": {
  "kernelspec": {
   "display_name": "Python 3",
   "language": "python",
   "name": "python3"
  },
  "language_info": {
   "codemirror_mode": {
    "name": "ipython",
    "version": 3
   },
   "file_extension": ".py",
   "mimetype": "text/x-python",
   "name": "python",
   "nbconvert_exporter": "python",
   "pygments_lexer": "ipython3",
   "version": "3.6.4"
  }
 },
 "nbformat": 4,
 "nbformat_minor": 2
}
